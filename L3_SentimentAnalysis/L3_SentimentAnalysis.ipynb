{
 "cells": [
  {
   "cell_type": "code",
   "execution_count": 1,
   "metadata": {
    "collapsed": true
   },
   "outputs": [
    {
     "name": "stderr",
     "output_type": "stream",
     "text": [
      "[nltk_data] Downloading package wordnet to\n",
      "[nltk_data]     C:\\Users\\darin\\AppData\\Roaming\\nltk_data...\n",
      "[nltk_data]   Package wordnet is already up-to-date!\n",
      "[nltk_data] Downloading package stopwords to\n",
      "[nltk_data]     C:\\Users\\darin\\AppData\\Roaming\\nltk_data...\n",
      "[nltk_data]   Package stopwords is already up-to-date!\n",
      "[nltk_data] Downloading package punkt to\n",
      "[nltk_data]     C:\\Users\\darin\\AppData\\Roaming\\nltk_data...\n",
      "[nltk_data]   Package punkt is already up-to-date!\n",
      "[nltk_data] Downloading package omw-1.4 to\n",
      "[nltk_data]     C:\\Users\\darin\\AppData\\Roaming\\nltk_data...\n",
      "[nltk_data]   Package omw-1.4 is already up-to-date!\n"
     ]
    }
   ],
   "source": [
    "import string\n",
    "import re\n",
    "import pandas as pd\n",
    "\n",
    "import nltk\n",
    "from nltk.tokenize import word_tokenize\n",
    "from nltk.corpus import stopwords\n",
    "from nltk.stem import WordNetLemmatizer\n",
    "\n",
    "nltk.download('wordnet')\n",
    "nltk.download('stopwords')\n",
    "nltk.download('punkt')\n",
    "nltk.download('omw-1.4')\n",
    "\n",
    "from sklearn.model_selection import train_test_split\n",
    "\n",
    "from sklearn.naive_bayes import MultinomialNB\n",
    "from sklearn.feature_extraction.text import CountVectorizer\n",
    "from sklearn.feature_extraction.text import TfidfVectorizer\n",
    "\n",
    "from sklearn.model_selection import GridSearchCV\n",
    "from sklearn.pipeline import Pipeline\n",
    "\n",
    "from sklearn.metrics import classification_report"
   ]
  },
  {
   "cell_type": "code",
   "execution_count": 2,
   "outputs": [
    {
     "data": {
      "text/plain": "     sentiment                                               text\nid                                                               \n3204       sad  agree the poor in india are treated badly thei...\n1431       joy  if only i could have spent the with this cutie...\n654        joy  will nature conservation remain a priority in ...\n2530       sad  coronavirus disappearing in italy show this to...\n2296       sad  uk records lowest daily virus death toll since...\n...        ...                                                ...\n2579       sad  today at 02 30pm a 54 year old bangladeshi mal...\n3579     anger  corona virus i implore that you cease activity...\n221        joy  issa date once lockdown ends inshaallah (and c...\n2705       sad  the death toll due to covid 19 rose to 31 in j...\n2962       sad  the rates are become barrier for poor people t...\n\n[3090 rows x 2 columns]",
      "text/html": "<div>\n<style scoped>\n    .dataframe tbody tr th:only-of-type {\n        vertical-align: middle;\n    }\n\n    .dataframe tbody tr th {\n        vertical-align: top;\n    }\n\n    .dataframe thead th {\n        text-align: right;\n    }\n</style>\n<table border=\"1\" class=\"dataframe\">\n  <thead>\n    <tr style=\"text-align: right;\">\n      <th></th>\n      <th>sentiment</th>\n      <th>text</th>\n    </tr>\n    <tr>\n      <th>id</th>\n      <th></th>\n      <th></th>\n    </tr>\n  </thead>\n  <tbody>\n    <tr>\n      <th>3204</th>\n      <td>sad</td>\n      <td>agree the poor in india are treated badly thei...</td>\n    </tr>\n    <tr>\n      <th>1431</th>\n      <td>joy</td>\n      <td>if only i could have spent the with this cutie...</td>\n    </tr>\n    <tr>\n      <th>654</th>\n      <td>joy</td>\n      <td>will nature conservation remain a priority in ...</td>\n    </tr>\n    <tr>\n      <th>2530</th>\n      <td>sad</td>\n      <td>coronavirus disappearing in italy show this to...</td>\n    </tr>\n    <tr>\n      <th>2296</th>\n      <td>sad</td>\n      <td>uk records lowest daily virus death toll since...</td>\n    </tr>\n    <tr>\n      <th>...</th>\n      <td>...</td>\n      <td>...</td>\n    </tr>\n    <tr>\n      <th>2579</th>\n      <td>sad</td>\n      <td>today at 02 30pm a 54 year old bangladeshi mal...</td>\n    </tr>\n    <tr>\n      <th>3579</th>\n      <td>anger</td>\n      <td>corona virus i implore that you cease activity...</td>\n    </tr>\n    <tr>\n      <th>221</th>\n      <td>joy</td>\n      <td>issa date once lockdown ends inshaallah (and c...</td>\n    </tr>\n    <tr>\n      <th>2705</th>\n      <td>sad</td>\n      <td>the death toll due to covid 19 rose to 31 in j...</td>\n    </tr>\n    <tr>\n      <th>2962</th>\n      <td>sad</td>\n      <td>the rates are become barrier for poor people t...</td>\n    </tr>\n  </tbody>\n</table>\n<p>3090 rows × 2 columns</p>\n</div>"
     },
     "execution_count": 2,
     "metadata": {},
     "output_type": "execute_result"
    }
   ],
   "source": [
    "df = pd.read_csv('data/finalSentimentdata2.csv')\n",
    "df = df.rename({'Unnamed: 0': 'id'}, axis=1).set_index('id')\n",
    "df"
   ],
   "metadata": {
    "collapsed": false,
    "pycharm": {
     "name": "#%%\n"
    }
   }
  },
  {
   "cell_type": "code",
   "execution_count": 3,
   "outputs": [
    {
     "data": {
      "text/plain": "     sentiment                                               text\nid                                                               \n3204       sad  agree the poor in india are treated badly thei...\n1431       joy  if only i could have spent the with this cutie...\n654        joy  will nature conservation remain a priority in ...\n2530       sad  coronavirus disappearing in italy show this to...\n2296       sad  uk records lowest daily virus death toll since...\n...        ...                                                ...\n2194       joy  it was tough to see you go brother excellent 6...\n2579       sad  today at 02 30pm a 54 year old bangladeshi mal...\n221        joy  issa date once lockdown ends inshaallah (and c...\n2705       sad  the death toll due to covid 19 rose to 31 in j...\n2962       sad  the rates are become barrier for poor people t...\n\n[1522 rows x 2 columns]",
      "text/html": "<div>\n<style scoped>\n    .dataframe tbody tr th:only-of-type {\n        vertical-align: middle;\n    }\n\n    .dataframe tbody tr th {\n        vertical-align: top;\n    }\n\n    .dataframe thead th {\n        text-align: right;\n    }\n</style>\n<table border=\"1\" class=\"dataframe\">\n  <thead>\n    <tr style=\"text-align: right;\">\n      <th></th>\n      <th>sentiment</th>\n      <th>text</th>\n    </tr>\n    <tr>\n      <th>id</th>\n      <th></th>\n      <th></th>\n    </tr>\n  </thead>\n  <tbody>\n    <tr>\n      <th>3204</th>\n      <td>sad</td>\n      <td>agree the poor in india are treated badly thei...</td>\n    </tr>\n    <tr>\n      <th>1431</th>\n      <td>joy</td>\n      <td>if only i could have spent the with this cutie...</td>\n    </tr>\n    <tr>\n      <th>654</th>\n      <td>joy</td>\n      <td>will nature conservation remain a priority in ...</td>\n    </tr>\n    <tr>\n      <th>2530</th>\n      <td>sad</td>\n      <td>coronavirus disappearing in italy show this to...</td>\n    </tr>\n    <tr>\n      <th>2296</th>\n      <td>sad</td>\n      <td>uk records lowest daily virus death toll since...</td>\n    </tr>\n    <tr>\n      <th>...</th>\n      <td>...</td>\n      <td>...</td>\n    </tr>\n    <tr>\n      <th>2194</th>\n      <td>joy</td>\n      <td>it was tough to see you go brother excellent 6...</td>\n    </tr>\n    <tr>\n      <th>2579</th>\n      <td>sad</td>\n      <td>today at 02 30pm a 54 year old bangladeshi mal...</td>\n    </tr>\n    <tr>\n      <th>221</th>\n      <td>joy</td>\n      <td>issa date once lockdown ends inshaallah (and c...</td>\n    </tr>\n    <tr>\n      <th>2705</th>\n      <td>sad</td>\n      <td>the death toll due to covid 19 rose to 31 in j...</td>\n    </tr>\n    <tr>\n      <th>2962</th>\n      <td>sad</td>\n      <td>the rates are become barrier for poor people t...</td>\n    </tr>\n  </tbody>\n</table>\n<p>1522 rows × 2 columns</p>\n</div>"
     },
     "execution_count": 3,
     "metadata": {},
     "output_type": "execute_result"
    }
   ],
   "source": [
    "sadjoy = df[df['sentiment'].isin(['sad', 'joy'])]\n",
    "sadjoy"
   ],
   "metadata": {
    "collapsed": false,
    "pycharm": {
     "name": "#%%\n"
    }
   }
  },
  {
   "cell_type": "code",
   "execution_count": 4,
   "outputs": [],
   "source": [
    "lemmatizer = WordNetLemmatizer()\n",
    "stopwords = set(stopwords.words('english'))"
   ],
   "metadata": {
    "collapsed": false,
    "pycharm": {
     "name": "#%%\n"
    }
   }
  },
  {
   "cell_type": "code",
   "execution_count": 5,
   "outputs": [],
   "source": [
    "def preprocessor(row: str):\n",
    "    row = re.sub(\"[@#][A-Za-z0-9]+\", \"\", row)\n",
    "    row = re.sub(f\"[{string.punctuation}]\", \"\", row)\n",
    "    row = row.lower()\n",
    "    row = [lemmatizer.lemmatize(word) for word in word_tokenize(row) if lemmatizer.lemmatize(word) not in stopwords]\n",
    "    return \" \".join(row)"
   ],
   "metadata": {
    "collapsed": false,
    "pycharm": {
     "name": "#%%\n"
    }
   }
  },
  {
   "cell_type": "code",
   "execution_count": 6,
   "outputs": [],
   "source": [
    "X_train, X_test, y_train, y_test = train_test_split(sadjoy['text'], sadjoy['sentiment'])\n",
    "\n",
    "X_train = X_train.apply(preprocessor)\n",
    "X_test = X_test.apply(preprocessor)"
   ],
   "metadata": {
    "collapsed": false,
    "pycharm": {
     "name": "#%%\n"
    }
   }
  },
  {
   "cell_type": "code",
   "execution_count": 7,
   "outputs": [
    {
     "name": "stdout",
     "output_type": "stream",
     "text": [
      "Best score: 0.824\n"
     ]
    },
    {
     "data": {
      "text/plain": "(1, 1)"
     },
     "execution_count": 7,
     "metadata": {},
     "output_type": "execute_result"
    }
   ],
   "source": [
    "pipeline = Pipeline([\n",
    "    ('vect', CountVectorizer()),\n",
    "    ('clf', MultinomialNB()),\n",
    "])\n",
    "\n",
    "parameters = {\n",
    "    'vect__ngram_range': ((1, 1), (1, 2), (1, 3), (2, 3), (2, 2), (3, 3)),\n",
    "}\n",
    "\n",
    "grid_search = GridSearchCV(pipeline, parameters)\n",
    "grid_search.fit(X_train, y_train)\n",
    "print(\"Best score: %0.3f\" % grid_search.best_score_)\n",
    "bs = grid_search.best_estimator_.get_params()['vect__ngram_range']\n",
    "bs"
   ],
   "metadata": {
    "collapsed": false,
    "pycharm": {
     "name": "#%%\n"
    }
   }
  },
  {
   "cell_type": "code",
   "execution_count": 8,
   "outputs": [
    {
     "name": "stdout",
     "output_type": "stream",
     "text": [
      "              precision    recall  f1-score   support\n",
      "\n",
      "         joy       0.78      0.82      0.80       167\n",
      "         sad       0.85      0.82      0.84       214\n",
      "\n",
      "    accuracy                           0.82       381\n",
      "   macro avg       0.82      0.82      0.82       381\n",
      "weighted avg       0.82      0.82      0.82       381\n",
      "\n"
     ]
    }
   ],
   "source": [
    "vectorizer = CountVectorizer(ngram_range=bs)\n",
    "v_X_train = vectorizer.fit_transform(X_train)\n",
    "\n",
    "clf = MultinomialNB()\n",
    "clf.fit(v_X_train, y_train)\n",
    "\n",
    "pred = clf.predict(vectorizer.transform(X_test))\n",
    "print(classification_report(pred, y_test))"
   ],
   "metadata": {
    "collapsed": false,
    "pycharm": {
     "name": "#%%\n"
    }
   }
  },
  {
   "cell_type": "code",
   "execution_count": 9,
   "outputs": [
    {
     "name": "stdout",
     "output_type": "stream",
     "text": [
      "Best score: 0.757\n"
     ]
    }
   ],
   "source": [
    "pipeline = Pipeline([\n",
    "    ('vect', TfidfVectorizer()),\n",
    "    ('clf', MultinomialNB()),\n",
    "])\n",
    "\n",
    "parameters = {\n",
    "    'vect__ngram_range': ((1, 1), (1, 2), (1, 3), (2, 3)),\n",
    "    'vect__max_df': (0.25, 0.5, 0.75, 1.0),\n",
    "    'vect__min_df': (0.01, 0.02, 0.03, 0.04),\n",
    "    'vect__max_features': (400, 500, 600, 700, 800, 900, 1000, 1141),\n",
    "}\n",
    "\n",
    "grid_search = GridSearchCV(pipeline, parameters)\n",
    "grid_search.fit(X_train, y_train)\n",
    "print(\"Best score: %0.3f\" % grid_search.best_score_)"
   ],
   "metadata": {
    "collapsed": false,
    "pycharm": {
     "name": "#%%\n"
    }
   }
  },
  {
   "cell_type": "code",
   "execution_count": 10,
   "outputs": [
    {
     "data": {
      "text/plain": "TfidfVectorizer(max_df=0.25, max_features=400, min_df=0.01)",
      "text/html": "<style>#sk-container-id-1 {color: black;background-color: white;}#sk-container-id-1 pre{padding: 0;}#sk-container-id-1 div.sk-toggleable {background-color: white;}#sk-container-id-1 label.sk-toggleable__label {cursor: pointer;display: block;width: 100%;margin-bottom: 0;padding: 0.3em;box-sizing: border-box;text-align: center;}#sk-container-id-1 label.sk-toggleable__label-arrow:before {content: \"▸\";float: left;margin-right: 0.25em;color: #696969;}#sk-container-id-1 label.sk-toggleable__label-arrow:hover:before {color: black;}#sk-container-id-1 div.sk-estimator:hover label.sk-toggleable__label-arrow:before {color: black;}#sk-container-id-1 div.sk-toggleable__content {max-height: 0;max-width: 0;overflow: hidden;text-align: left;background-color: #f0f8ff;}#sk-container-id-1 div.sk-toggleable__content pre {margin: 0.2em;color: black;border-radius: 0.25em;background-color: #f0f8ff;}#sk-container-id-1 input.sk-toggleable__control:checked~div.sk-toggleable__content {max-height: 200px;max-width: 100%;overflow: auto;}#sk-container-id-1 input.sk-toggleable__control:checked~label.sk-toggleable__label-arrow:before {content: \"▾\";}#sk-container-id-1 div.sk-estimator input.sk-toggleable__control:checked~label.sk-toggleable__label {background-color: #d4ebff;}#sk-container-id-1 div.sk-label input.sk-toggleable__control:checked~label.sk-toggleable__label {background-color: #d4ebff;}#sk-container-id-1 input.sk-hidden--visually {border: 0;clip: rect(1px 1px 1px 1px);clip: rect(1px, 1px, 1px, 1px);height: 1px;margin: -1px;overflow: hidden;padding: 0;position: absolute;width: 1px;}#sk-container-id-1 div.sk-estimator {font-family: monospace;background-color: #f0f8ff;border: 1px dotted black;border-radius: 0.25em;box-sizing: border-box;margin-bottom: 0.5em;}#sk-container-id-1 div.sk-estimator:hover {background-color: #d4ebff;}#sk-container-id-1 div.sk-parallel-item::after {content: \"\";width: 100%;border-bottom: 1px solid gray;flex-grow: 1;}#sk-container-id-1 div.sk-label:hover label.sk-toggleable__label {background-color: #d4ebff;}#sk-container-id-1 div.sk-serial::before {content: \"\";position: absolute;border-left: 1px solid gray;box-sizing: border-box;top: 0;bottom: 0;left: 50%;z-index: 0;}#sk-container-id-1 div.sk-serial {display: flex;flex-direction: column;align-items: center;background-color: white;padding-right: 0.2em;padding-left: 0.2em;position: relative;}#sk-container-id-1 div.sk-item {position: relative;z-index: 1;}#sk-container-id-1 div.sk-parallel {display: flex;align-items: stretch;justify-content: center;background-color: white;position: relative;}#sk-container-id-1 div.sk-item::before, #sk-container-id-1 div.sk-parallel-item::before {content: \"\";position: absolute;border-left: 1px solid gray;box-sizing: border-box;top: 0;bottom: 0;left: 50%;z-index: -1;}#sk-container-id-1 div.sk-parallel-item {display: flex;flex-direction: column;z-index: 1;position: relative;background-color: white;}#sk-container-id-1 div.sk-parallel-item:first-child::after {align-self: flex-end;width: 50%;}#sk-container-id-1 div.sk-parallel-item:last-child::after {align-self: flex-start;width: 50%;}#sk-container-id-1 div.sk-parallel-item:only-child::after {width: 0;}#sk-container-id-1 div.sk-dashed-wrapped {border: 1px dashed gray;margin: 0 0.4em 0.5em 0.4em;box-sizing: border-box;padding-bottom: 0.4em;background-color: white;}#sk-container-id-1 div.sk-label label {font-family: monospace;font-weight: bold;display: inline-block;line-height: 1.2em;}#sk-container-id-1 div.sk-label-container {text-align: center;}#sk-container-id-1 div.sk-container {/* jupyter's `normalize.less` sets `[hidden] { display: none; }` but bootstrap.min.css set `[hidden] { display: none !important; }` so we also need the `!important` here to be able to override the default hidden behavior on the sphinx rendered scikit-learn.org. See: https://github.com/scikit-learn/scikit-learn/issues/21755 */display: inline-block !important;position: relative;}#sk-container-id-1 div.sk-text-repr-fallback {display: none;}</style><div id=\"sk-container-id-1\" class=\"sk-top-container\"><div class=\"sk-text-repr-fallback\"><pre>TfidfVectorizer(max_df=0.25, max_features=400, min_df=0.01)</pre><b>In a Jupyter environment, please rerun this cell to show the HTML representation or trust the notebook. <br />On GitHub, the HTML representation is unable to render, please try loading this page with nbviewer.org.</b></div><div class=\"sk-container\" hidden><div class=\"sk-item\"><div class=\"sk-estimator sk-toggleable\"><input class=\"sk-toggleable__control sk-hidden--visually\" id=\"sk-estimator-id-1\" type=\"checkbox\" checked><label for=\"sk-estimator-id-1\" class=\"sk-toggleable__label sk-toggleable__label-arrow\">TfidfVectorizer</label><div class=\"sk-toggleable__content\"><pre>TfidfVectorizer(max_df=0.25, max_features=400, min_df=0.01)</pre></div></div></div></div></div>"
     },
     "execution_count": 10,
     "metadata": {},
     "output_type": "execute_result"
    }
   ],
   "source": [
    "grid_search.best_estimator_.get_params()['vect']"
   ],
   "metadata": {
    "collapsed": false,
    "pycharm": {
     "name": "#%%\n"
    }
   }
  },
  {
   "cell_type": "code",
   "execution_count": 11,
   "outputs": [
    {
     "name": "stdout",
     "output_type": "stream",
     "text": [
      "              precision    recall  f1-score   support\n",
      "\n",
      "         joy       0.78      0.74      0.76       186\n",
      "         sad       0.77      0.81      0.79       195\n",
      "\n",
      "    accuracy                           0.77       381\n",
      "   macro avg       0.77      0.77      0.77       381\n",
      "weighted avg       0.77      0.77      0.77       381\n",
      "\n"
     ]
    }
   ],
   "source": [
    "vectorizer = TfidfVectorizer(ngram_range=(1, 2), max_df=0.25, max_features=400, min_df=0.01)\n",
    "v_X_train = vectorizer.fit_transform(X_train)\n",
    "\n",
    "clf = MultinomialNB()\n",
    "clf.fit(v_X_train, y_train)\n",
    "\n",
    "pred = clf.predict(vectorizer.transform(X_test))\n",
    "print(classification_report(pred, y_test))"
   ],
   "metadata": {
    "collapsed": false,
    "pycharm": {
     "name": "#%%\n"
    }
   }
  },
  {
   "cell_type": "code",
   "execution_count": 12,
   "outputs": [
    {
     "data": {
      "text/plain": "                     user_name               user_location   \n0                       ᏉᎥ☻լꂅϮ                  astroworld  \\\n1                Tom Basile 🇺🇸                New York, NY   \n2              Time4fisticuffs            Pewee Valley, KY   \n3                  ethel mertz        Stuck in the Middle    \n4                     DIPR-J&K           Jammu and Kashmir   \n...                        ...                         ...   \n179103  AJIMATI AbdulRahman O.             Ilorin, Nigeria   \n179104                   Jason                     Ontario   \n179105             BEEHEMOTH ⏳                   🇨🇦 Canada   \n179106           Gary DelPonte               New York City   \n179107                 TUKY II  Aliwal North, South Africa   \n\n                                         user_description   \n0       wednesday addams as a disney princess keepin i...  \\\n1       Husband, Father, Columnist & Commentator. Auth...   \n2       #Christian #Catholic #Conservative #Reagan #Re...   \n3       #Browns #Indians #ClevelandProud #[]_[] #Cavs ...   \n4       🖊️Official Twitter handle of Department of Inf...   \n...                                                   ...   \n179103    Animal Scientist|| Muslim|| Real Madrid/Chelsea   \n179104  When your cat has more baking soda than Ninja ...   \n179105  ⚒️ The Architects of Free Trade ⚒️ Really Did ...   \n179106  Global UX UI Visual Designer. StoryTeller, Mus...   \n179107  TOKELO SEKHOPA | TUKY II | LAST BORN | EISH TU...   \n\n               user_created  user_followers  user_friends  user_favourites   \n0       2017-05-26 05:46:42             624           950            18775  \\\n1       2009-04-16 20:06:23            2253          1677               24   \n2       2009-02-28 18:57:41            9275          9525             7254   \n3       2019-03-07 01:45:06             197           987             1488   \n4       2017-02-12 06:45:15          101009           168              101   \n...                     ...             ...           ...              ...   \n179103  2013-12-30 18:59:19             412          1609             1062   \n179104  2011-12-21 04:41:30             150           182             7295   \n179105  2016-07-13 17:21:59            1623          2160            98000   \n179106  2009-10-27 17:43:13            1338          1111                0   \n179107  2018-04-14 17:30:07              97          1697              566   \n\n        user_verified                 date   \n0               False  2020-07-25 12:27:21  \\\n1                True  2020-07-25 12:27:17   \n2               False  2020-07-25 12:27:14   \n3               False  2020-07-25 12:27:10   \n4               False  2020-07-25 12:27:08   \n...               ...                  ...   \n179103          False  2020-08-29 19:44:21   \n179104          False  2020-08-29 19:44:16   \n179105          False  2020-08-29 19:44:15   \n179106          False  2020-08-29 19:44:14   \n179107          False  2020-08-29 19:44:08   \n\n                                                     text   \n0       smelled scent hand sanitizers today someone pa...  \\\n1       hey wouldnt made sense player pay respect a… h...   \n2       trump never claimed wa hoax claim effort to… h...   \n3       one gift ha give appreciation simple thing alw...   \n4       25 july medium bulletin novel … httpstcomn0eec...   \n...                                                   ...   \n179103  thanks nominating challenge nominate … httpstc...   \n179104          2020 year insanity lol httpstcoy48np0yzgn   \n179105  powerful painting juan lucena tribute grandpar...   \n179106  1200 student test positive major university ab...   \n179107        stop see stop ent sabc1… httpstcoreg8pwzon7   \n\n                                 hashtags               source  is_retweet  \n0                                     NaN   Twitter for iPhone       False  \n1                                     NaN  Twitter for Android       False  \n2                             ['COVID19']  Twitter for Android       False  \n3                             ['COVID19']   Twitter for iPhone       False  \n4       ['CoronaVirusUpdates', 'COVID19']  Twitter for Android       False  \n...                                   ...                  ...         ...  \n179103                      ['WearAMask']  Twitter for Android       False  \n179104                        ['COVID19']  Twitter for Android       False  \n179105                                NaN      Twitter Web App       False  \n179106                        ['COVID19']   Twitter for iPhone       False  \n179107                                NaN  Twitter for Android       False  \n\n[179108 rows x 13 columns]",
      "text/html": "<div>\n<style scoped>\n    .dataframe tbody tr th:only-of-type {\n        vertical-align: middle;\n    }\n\n    .dataframe tbody tr th {\n        vertical-align: top;\n    }\n\n    .dataframe thead th {\n        text-align: right;\n    }\n</style>\n<table border=\"1\" class=\"dataframe\">\n  <thead>\n    <tr style=\"text-align: right;\">\n      <th></th>\n      <th>user_name</th>\n      <th>user_location</th>\n      <th>user_description</th>\n      <th>user_created</th>\n      <th>user_followers</th>\n      <th>user_friends</th>\n      <th>user_favourites</th>\n      <th>user_verified</th>\n      <th>date</th>\n      <th>text</th>\n      <th>hashtags</th>\n      <th>source</th>\n      <th>is_retweet</th>\n    </tr>\n  </thead>\n  <tbody>\n    <tr>\n      <th>0</th>\n      <td>ᏉᎥ☻լꂅϮ</td>\n      <td>astroworld</td>\n      <td>wednesday addams as a disney princess keepin i...</td>\n      <td>2017-05-26 05:46:42</td>\n      <td>624</td>\n      <td>950</td>\n      <td>18775</td>\n      <td>False</td>\n      <td>2020-07-25 12:27:21</td>\n      <td>smelled scent hand sanitizers today someone pa...</td>\n      <td>NaN</td>\n      <td>Twitter for iPhone</td>\n      <td>False</td>\n    </tr>\n    <tr>\n      <th>1</th>\n      <td>Tom Basile 🇺🇸</td>\n      <td>New York, NY</td>\n      <td>Husband, Father, Columnist &amp; Commentator. Auth...</td>\n      <td>2009-04-16 20:06:23</td>\n      <td>2253</td>\n      <td>1677</td>\n      <td>24</td>\n      <td>True</td>\n      <td>2020-07-25 12:27:17</td>\n      <td>hey wouldnt made sense player pay respect a… h...</td>\n      <td>NaN</td>\n      <td>Twitter for Android</td>\n      <td>False</td>\n    </tr>\n    <tr>\n      <th>2</th>\n      <td>Time4fisticuffs</td>\n      <td>Pewee Valley, KY</td>\n      <td>#Christian #Catholic #Conservative #Reagan #Re...</td>\n      <td>2009-02-28 18:57:41</td>\n      <td>9275</td>\n      <td>9525</td>\n      <td>7254</td>\n      <td>False</td>\n      <td>2020-07-25 12:27:14</td>\n      <td>trump never claimed wa hoax claim effort to… h...</td>\n      <td>['COVID19']</td>\n      <td>Twitter for Android</td>\n      <td>False</td>\n    </tr>\n    <tr>\n      <th>3</th>\n      <td>ethel mertz</td>\n      <td>Stuck in the Middle</td>\n      <td>#Browns #Indians #ClevelandProud #[]_[] #Cavs ...</td>\n      <td>2019-03-07 01:45:06</td>\n      <td>197</td>\n      <td>987</td>\n      <td>1488</td>\n      <td>False</td>\n      <td>2020-07-25 12:27:10</td>\n      <td>one gift ha give appreciation simple thing alw...</td>\n      <td>['COVID19']</td>\n      <td>Twitter for iPhone</td>\n      <td>False</td>\n    </tr>\n    <tr>\n      <th>4</th>\n      <td>DIPR-J&amp;K</td>\n      <td>Jammu and Kashmir</td>\n      <td>🖊️Official Twitter handle of Department of Inf...</td>\n      <td>2017-02-12 06:45:15</td>\n      <td>101009</td>\n      <td>168</td>\n      <td>101</td>\n      <td>False</td>\n      <td>2020-07-25 12:27:08</td>\n      <td>25 july medium bulletin novel … httpstcomn0eec...</td>\n      <td>['CoronaVirusUpdates', 'COVID19']</td>\n      <td>Twitter for Android</td>\n      <td>False</td>\n    </tr>\n    <tr>\n      <th>...</th>\n      <td>...</td>\n      <td>...</td>\n      <td>...</td>\n      <td>...</td>\n      <td>...</td>\n      <td>...</td>\n      <td>...</td>\n      <td>...</td>\n      <td>...</td>\n      <td>...</td>\n      <td>...</td>\n      <td>...</td>\n      <td>...</td>\n    </tr>\n    <tr>\n      <th>179103</th>\n      <td>AJIMATI AbdulRahman O.</td>\n      <td>Ilorin, Nigeria</td>\n      <td>Animal Scientist|| Muslim|| Real Madrid/Chelsea</td>\n      <td>2013-12-30 18:59:19</td>\n      <td>412</td>\n      <td>1609</td>\n      <td>1062</td>\n      <td>False</td>\n      <td>2020-08-29 19:44:21</td>\n      <td>thanks nominating challenge nominate … httpstc...</td>\n      <td>['WearAMask']</td>\n      <td>Twitter for Android</td>\n      <td>False</td>\n    </tr>\n    <tr>\n      <th>179104</th>\n      <td>Jason</td>\n      <td>Ontario</td>\n      <td>When your cat has more baking soda than Ninja ...</td>\n      <td>2011-12-21 04:41:30</td>\n      <td>150</td>\n      <td>182</td>\n      <td>7295</td>\n      <td>False</td>\n      <td>2020-08-29 19:44:16</td>\n      <td>2020 year insanity lol httpstcoy48np0yzgn</td>\n      <td>['COVID19']</td>\n      <td>Twitter for Android</td>\n      <td>False</td>\n    </tr>\n    <tr>\n      <th>179105</th>\n      <td>BEEHEMOTH ⏳</td>\n      <td>🇨🇦 Canada</td>\n      <td>⚒️ The Architects of Free Trade ⚒️ Really Did ...</td>\n      <td>2016-07-13 17:21:59</td>\n      <td>1623</td>\n      <td>2160</td>\n      <td>98000</td>\n      <td>False</td>\n      <td>2020-08-29 19:44:15</td>\n      <td>powerful painting juan lucena tribute grandpar...</td>\n      <td>NaN</td>\n      <td>Twitter Web App</td>\n      <td>False</td>\n    </tr>\n    <tr>\n      <th>179106</th>\n      <td>Gary DelPonte</td>\n      <td>New York City</td>\n      <td>Global UX UI Visual Designer. StoryTeller, Mus...</td>\n      <td>2009-10-27 17:43:13</td>\n      <td>1338</td>\n      <td>1111</td>\n      <td>0</td>\n      <td>False</td>\n      <td>2020-08-29 19:44:14</td>\n      <td>1200 student test positive major university ab...</td>\n      <td>['COVID19']</td>\n      <td>Twitter for iPhone</td>\n      <td>False</td>\n    </tr>\n    <tr>\n      <th>179107</th>\n      <td>TUKY II</td>\n      <td>Aliwal North, South Africa</td>\n      <td>TOKELO SEKHOPA | TUKY II | LAST BORN | EISH TU...</td>\n      <td>2018-04-14 17:30:07</td>\n      <td>97</td>\n      <td>1697</td>\n      <td>566</td>\n      <td>False</td>\n      <td>2020-08-29 19:44:08</td>\n      <td>stop see stop ent sabc1… httpstcoreg8pwzon7</td>\n      <td>NaN</td>\n      <td>Twitter for Android</td>\n      <td>False</td>\n    </tr>\n  </tbody>\n</table>\n<p>179108 rows × 13 columns</p>\n</div>"
     },
     "execution_count": 12,
     "metadata": {},
     "output_type": "execute_result"
    }
   ],
   "source": [
    "newdf = pd.read_csv('data/covid19_tweets.csv')\n",
    "newdf['text'] = newdf['text'].apply(preprocessor)\n",
    "newdf"
   ],
   "metadata": {
    "collapsed": false,
    "pycharm": {
     "name": "#%%\n"
    }
   }
  },
  {
   "cell_type": "code",
   "execution_count": 13,
   "outputs": [],
   "source": [
    "pred = clf.predict(vectorizer.transform(newdf))"
   ],
   "metadata": {
    "collapsed": false,
    "pycharm": {
     "name": "#%%\n"
    }
   }
  },
  {
   "cell_type": "code",
   "execution_count": 14,
   "outputs": [
    {
     "name": "stdout",
     "output_type": "stream",
     "text": [
      "joy: 0 \t0.0 %\n",
      "sad: 13 \t100.0 %\n"
     ]
    }
   ],
   "source": [
    "sad, joy = 0, 0\n",
    "for elem in pred:\n",
    "    if elem == 'sad':\n",
    "        sad += 1\n",
    "    else:\n",
    "        joy += 1\n",
    "\n",
    "print('joy:', joy, f'\\t{joy / (joy + sad) * 100} %')\n",
    "print('sad:', sad, f'\\t{sad / (joy + sad) * 100} %')"
   ],
   "metadata": {
    "collapsed": false,
    "pycharm": {
     "name": "#%%\n"
    }
   }
  },
  {
   "cell_type": "code",
   "execution_count": 15,
   "outputs": [
    {
     "data": {
      "text/plain": "True"
     },
     "execution_count": 15,
     "metadata": {},
     "output_type": "execute_result"
    }
   ],
   "source": [
    "from textblob import TextBlob\n",
    "from textblob import Blobber\n",
    "from textblob.sentiments import NaiveBayesAnalyzer\n",
    "\n",
    "nltk.download('movie_reviews', quiet=True)"
   ],
   "metadata": {
    "collapsed": false,
    "pycharm": {
     "name": "#%%\n"
    }
   }
  },
  {
   "cell_type": "code",
   "execution_count": 16,
   "outputs": [
    {
     "data": {
      "text/plain": "text\npos    0.702682\nneg    0.297318\nName: proportion, dtype: float64"
     },
     "execution_count": 16,
     "metadata": {},
     "output_type": "execute_result"
    }
   ],
   "source": [
    "tb = Blobber(analyzer=NaiveBayesAnalyzer())\n",
    "\n",
    "res = newdf['text'].apply(lambda x: tb(x).sentiment.classification)\n",
    "res.value_counts(normalize=True)"
   ],
   "metadata": {
    "collapsed": false,
    "pycharm": {
     "name": "#%%\n"
    }
   }
  }
 ],
 "metadata": {
  "kernelspec": {
   "display_name": "Python 3",
   "language": "python",
   "name": "python3"
  },
  "language_info": {
   "codemirror_mode": {
    "name": "ipython",
    "version": 2
   },
   "file_extension": ".py",
   "mimetype": "text/x-python",
   "name": "python",
   "nbconvert_exporter": "python",
   "pygments_lexer": "ipython2",
   "version": "2.7.6"
  }
 },
 "nbformat": 4,
 "nbformat_minor": 0
}